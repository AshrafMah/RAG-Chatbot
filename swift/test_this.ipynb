{
 "cells": [
  {
   "cell_type": "code",
   "execution_count": 10,
   "metadata": {},
   "outputs": [
    {
     "ename": "ImportError",
     "evalue": "cannot import name 'Document' from 'haystack' (unknown location)",
     "output_type": "error",
     "traceback": [
      "\u001b[0;31m---------------------------------------------------------------------------\u001b[0m",
      "\u001b[0;31mImportError\u001b[0m                               Traceback (most recent call last)",
      "Cell \u001b[0;32mIn[10], line 1\u001b[0m\n\u001b[0;32m----> 1\u001b[0m \u001b[38;5;28;01mfrom\u001b[39;00m \u001b[38;5;21;01mhaystack\u001b[39;00m\u001b[38;5;21;01m.\u001b[39;00m\u001b[38;5;21;01mcomponents\u001b[39;00m\u001b[38;5;21;01m.\u001b[39;00m\u001b[38;5;21;01mpreprocessors\u001b[39;00m \u001b[38;5;28;01mimport\u001b[39;00m DocumentCleaner\n",
      "File \u001b[0;32m~/miniconda3/envs/swiftrag/lib/python3.10/site-packages/haystack/components/preprocessors/__init__.py:5\u001b[0m\n\u001b[1;32m      1\u001b[0m \u001b[38;5;66;03m# SPDX-FileCopyrightText: 2022-present deepset GmbH <info@deepset.ai>\u001b[39;00m\n\u001b[1;32m      2\u001b[0m \u001b[38;5;66;03m#\u001b[39;00m\n\u001b[1;32m      3\u001b[0m \u001b[38;5;66;03m# SPDX-License-Identifier: Apache-2.0\u001b[39;00m\n\u001b[0;32m----> 5\u001b[0m \u001b[38;5;28;01mfrom\u001b[39;00m \u001b[38;5;21;01m.\u001b[39;00m\u001b[38;5;21;01mdocument_cleaner\u001b[39;00m \u001b[38;5;28;01mimport\u001b[39;00m DocumentCleaner\n\u001b[1;32m      6\u001b[0m \u001b[38;5;28;01mfrom\u001b[39;00m \u001b[38;5;21;01m.\u001b[39;00m\u001b[38;5;21;01mdocument_splitter\u001b[39;00m \u001b[38;5;28;01mimport\u001b[39;00m DocumentSplitter\n\u001b[1;32m      7\u001b[0m \u001b[38;5;28;01mfrom\u001b[39;00m \u001b[38;5;21;01m.\u001b[39;00m\u001b[38;5;21;01mtext_cleaner\u001b[39;00m \u001b[38;5;28;01mimport\u001b[39;00m TextCleaner\n",
      "File \u001b[0;32m~/miniconda3/envs/swiftrag/lib/python3.10/site-packages/haystack/components/preprocessors/document_cleaner.py:11\u001b[0m\n\u001b[1;32m      8\u001b[0m \u001b[38;5;28;01mfrom\u001b[39;00m \u001b[38;5;21;01mitertools\u001b[39;00m \u001b[38;5;28;01mimport\u001b[39;00m chain\n\u001b[1;32m      9\u001b[0m \u001b[38;5;28;01mfrom\u001b[39;00m \u001b[38;5;21;01mtyping\u001b[39;00m \u001b[38;5;28;01mimport\u001b[39;00m Generator, List, Optional, Set\n\u001b[0;32m---> 11\u001b[0m \u001b[38;5;28;01mfrom\u001b[39;00m \u001b[38;5;21;01mhaystack\u001b[39;00m \u001b[38;5;28;01mimport\u001b[39;00m Document, component, logging\n\u001b[1;32m     13\u001b[0m logger \u001b[38;5;241m=\u001b[39m logging\u001b[38;5;241m.\u001b[39mgetLogger(\u001b[38;5;18m__name__\u001b[39m)\n\u001b[1;32m     16\u001b[0m \u001b[38;5;129m@component\u001b[39m\n\u001b[1;32m     17\u001b[0m \u001b[38;5;28;01mclass\u001b[39;00m \u001b[38;5;21;01mDocumentCleaner\u001b[39;00m:\n",
      "\u001b[0;31mImportError\u001b[0m: cannot import name 'Document' from 'haystack' (unknown location)"
     ]
    }
   ],
   "source": [
    "from haystack.components.preprocessors import DocumentCleaner"
   ]
  },
  {
   "cell_type": "code",
   "execution_count": 8,
   "metadata": {},
   "outputs": [
    {
     "ename": "ImportError",
     "evalue": "cannot import name 'Document' from 'haystack' (unknown location)",
     "output_type": "error",
     "traceback": [
      "\u001b[0;31m---------------------------------------------------------------------------\u001b[0m",
      "\u001b[0;31mImportError\u001b[0m                               Traceback (most recent call last)",
      "Cell \u001b[0;32mIn[8], line 1\u001b[0m\n\u001b[0;32m----> 1\u001b[0m \u001b[38;5;28;01mfrom\u001b[39;00m \u001b[38;5;21;01mhaystack\u001b[39;00m \u001b[38;5;28;01mimport\u001b[39;00m Document\n\u001b[1;32m      2\u001b[0m \u001b[38;5;66;03m# from haystack.components.preprocessors import DocumentCleaner, DocumentSplitter\u001b[39;00m\n",
      "\u001b[0;31mImportError\u001b[0m: cannot import name 'Document' from 'haystack' (unknown location)"
     ]
    }
   ],
   "source": [
    "from haystack import Document\n",
    "from haystack.components.preprocessors import DocumentCleaner, DocumentSplitter"
   ]
  },
  {
   "cell_type": "code",
   "execution_count": 9,
   "metadata": {},
   "outputs": [
    {
     "ename": "ImportError",
     "evalue": "cannot import name 'Document' from 'haystack' (unknown location)",
     "output_type": "error",
     "traceback": [
      "\u001b[0;31m---------------------------------------------------------------------------\u001b[0m",
      "\u001b[0;31mImportError\u001b[0m                               Traceback (most recent call last)",
      "Cell \u001b[0;32mIn[9], line 1\u001b[0m\n\u001b[0;32m----> 1\u001b[0m \u001b[38;5;28;01mfrom\u001b[39;00m \u001b[38;5;21;01mhaystack\u001b[39;00m\u001b[38;5;21;01m.\u001b[39;00m\u001b[38;5;21;01mcomponents\u001b[39;00m\u001b[38;5;21;01m.\u001b[39;00m\u001b[38;5;21;01mpreprocessors\u001b[39;00m \u001b[38;5;28;01mimport\u001b[39;00m DocumentCleaner, DocumentSplitter\n",
      "File \u001b[0;32m~/miniconda3/envs/swiftrag/lib/python3.10/site-packages/haystack/components/preprocessors/__init__.py:5\u001b[0m\n\u001b[1;32m      1\u001b[0m \u001b[38;5;66;03m# SPDX-FileCopyrightText: 2022-present deepset GmbH <info@deepset.ai>\u001b[39;00m\n\u001b[1;32m      2\u001b[0m \u001b[38;5;66;03m#\u001b[39;00m\n\u001b[1;32m      3\u001b[0m \u001b[38;5;66;03m# SPDX-License-Identifier: Apache-2.0\u001b[39;00m\n\u001b[0;32m----> 5\u001b[0m \u001b[38;5;28;01mfrom\u001b[39;00m \u001b[38;5;21;01m.\u001b[39;00m\u001b[38;5;21;01mdocument_cleaner\u001b[39;00m \u001b[38;5;28;01mimport\u001b[39;00m DocumentCleaner\n\u001b[1;32m      6\u001b[0m \u001b[38;5;28;01mfrom\u001b[39;00m \u001b[38;5;21;01m.\u001b[39;00m\u001b[38;5;21;01mdocument_splitter\u001b[39;00m \u001b[38;5;28;01mimport\u001b[39;00m DocumentSplitter\n\u001b[1;32m      7\u001b[0m \u001b[38;5;28;01mfrom\u001b[39;00m \u001b[38;5;21;01m.\u001b[39;00m\u001b[38;5;21;01mtext_cleaner\u001b[39;00m \u001b[38;5;28;01mimport\u001b[39;00m TextCleaner\n",
      "File \u001b[0;32m~/miniconda3/envs/swiftrag/lib/python3.10/site-packages/haystack/components/preprocessors/document_cleaner.py:11\u001b[0m\n\u001b[1;32m      8\u001b[0m \u001b[38;5;28;01mfrom\u001b[39;00m \u001b[38;5;21;01mitertools\u001b[39;00m \u001b[38;5;28;01mimport\u001b[39;00m chain\n\u001b[1;32m      9\u001b[0m \u001b[38;5;28;01mfrom\u001b[39;00m \u001b[38;5;21;01mtyping\u001b[39;00m \u001b[38;5;28;01mimport\u001b[39;00m Generator, List, Optional, Set\n\u001b[0;32m---> 11\u001b[0m \u001b[38;5;28;01mfrom\u001b[39;00m \u001b[38;5;21;01mhaystack\u001b[39;00m \u001b[38;5;28;01mimport\u001b[39;00m Document, component, logging\n\u001b[1;32m     13\u001b[0m logger \u001b[38;5;241m=\u001b[39m logging\u001b[38;5;241m.\u001b[39mgetLogger(\u001b[38;5;18m__name__\u001b[39m)\n\u001b[1;32m     16\u001b[0m \u001b[38;5;129m@component\u001b[39m\n\u001b[1;32m     17\u001b[0m \u001b[38;5;28;01mclass\u001b[39;00m \u001b[38;5;21;01mDocumentCleaner\u001b[39;00m:\n",
      "\u001b[0;31mImportError\u001b[0m: cannot import name 'Document' from 'haystack' (unknown location)"
     ]
    }
   ],
   "source": [
    "from haystack.components.preprocessors import DocumentCleaner, DocumentSplitter"
   ]
  },
  {
   "cell_type": "code",
   "execution_count": 2,
   "metadata": {},
   "outputs": [
    {
     "name": "stdout",
     "output_type": "stream",
     "text": [
      "\u001b[33mWARNING: Skipping farm-haystack as it is not installed.\u001b[0m\u001b[33m\n",
      "\u001b[0mFound existing installation: haystack-ai 2.2.4\n",
      "Uninstalling haystack-ai-2.2.4:\n",
      "  Successfully uninstalled haystack-ai-2.2.4\n"
     ]
    }
   ],
   "source": [
    "! pip uninstall -y farm-haystack haystack-ai"
   ]
  },
  {
   "cell_type": "code",
   "execution_count": 3,
   "metadata": {},
   "outputs": [
    {
     "name": "stdout",
     "output_type": "stream",
     "text": [
      "Collecting haystack-ai\n",
      "  Downloading haystack_ai-2.3.0-py3-none-any.whl.metadata (13 kB)\n",
      "Collecting haystack-experimental (from haystack-ai)\n",
      "  Downloading haystack_experimental-0.1.0-py3-none-any.whl.metadata (6.4 kB)\n",
      "Requirement already satisfied: jinja2 in /Users/ashrafmahmoud/miniconda3/envs/swiftrag/lib/python3.10/site-packages (from haystack-ai) (3.1.4)\n",
      "Requirement already satisfied: lazy-imports in /Users/ashrafmahmoud/miniconda3/envs/swiftrag/lib/python3.10/site-packages (from haystack-ai) (0.3.1)\n",
      "Requirement already satisfied: more-itertools in /Users/ashrafmahmoud/miniconda3/envs/swiftrag/lib/python3.10/site-packages (from haystack-ai) (10.3.0)\n",
      "Requirement already satisfied: networkx in /Users/ashrafmahmoud/miniconda3/envs/swiftrag/lib/python3.10/site-packages (from haystack-ai) (3.3)\n",
      "Requirement already satisfied: numpy<2 in /Users/ashrafmahmoud/miniconda3/envs/swiftrag/lib/python3.10/site-packages (from haystack-ai) (1.26.4)\n",
      "Requirement already satisfied: openai>=1.1.0 in /Users/ashrafmahmoud/miniconda3/envs/swiftrag/lib/python3.10/site-packages (from haystack-ai) (1.35.13)\n",
      "Requirement already satisfied: pandas in /Users/ashrafmahmoud/miniconda3/envs/swiftrag/lib/python3.10/site-packages (from haystack-ai) (2.2.2)\n",
      "Requirement already satisfied: posthog in /Users/ashrafmahmoud/miniconda3/envs/swiftrag/lib/python3.10/site-packages (from haystack-ai) (3.5.0)\n",
      "Requirement already satisfied: python-dateutil in /Users/ashrafmahmoud/miniconda3/envs/swiftrag/lib/python3.10/site-packages (from haystack-ai) (2.9.0.post0)\n",
      "Requirement already satisfied: pyyaml in /Users/ashrafmahmoud/miniconda3/envs/swiftrag/lib/python3.10/site-packages (from haystack-ai) (6.0.1)\n",
      "Requirement already satisfied: requests in /Users/ashrafmahmoud/miniconda3/envs/swiftrag/lib/python3.10/site-packages (from haystack-ai) (2.32.3)\n",
      "Requirement already satisfied: tenacity!=8.4.0 in /Users/ashrafmahmoud/miniconda3/envs/swiftrag/lib/python3.10/site-packages (from haystack-ai) (8.5.0)\n",
      "Requirement already satisfied: tqdm in /Users/ashrafmahmoud/miniconda3/envs/swiftrag/lib/python3.10/site-packages (from haystack-ai) (4.66.4)\n",
      "Requirement already satisfied: typing-extensions>=4.7 in /Users/ashrafmahmoud/miniconda3/envs/swiftrag/lib/python3.10/site-packages (from haystack-ai) (4.12.2)\n",
      "Requirement already satisfied: anyio<5,>=3.5.0 in /Users/ashrafmahmoud/miniconda3/envs/swiftrag/lib/python3.10/site-packages (from openai>=1.1.0->haystack-ai) (4.4.0)\n",
      "Requirement already satisfied: distro<2,>=1.7.0 in /Users/ashrafmahmoud/miniconda3/envs/swiftrag/lib/python3.10/site-packages (from openai>=1.1.0->haystack-ai) (1.9.0)\n",
      "Requirement already satisfied: httpx<1,>=0.23.0 in /Users/ashrafmahmoud/miniconda3/envs/swiftrag/lib/python3.10/site-packages (from openai>=1.1.0->haystack-ai) (0.27.0)\n",
      "Requirement already satisfied: pydantic<3,>=1.9.0 in /Users/ashrafmahmoud/miniconda3/envs/swiftrag/lib/python3.10/site-packages (from openai>=1.1.0->haystack-ai) (1.10.17)\n",
      "Requirement already satisfied: sniffio in /Users/ashrafmahmoud/miniconda3/envs/swiftrag/lib/python3.10/site-packages (from openai>=1.1.0->haystack-ai) (1.3.1)\n",
      "Requirement already satisfied: MarkupSafe>=2.0 in /Users/ashrafmahmoud/miniconda3/envs/swiftrag/lib/python3.10/site-packages (from jinja2->haystack-ai) (2.1.5)\n",
      "Requirement already satisfied: pytz>=2020.1 in /Users/ashrafmahmoud/miniconda3/envs/swiftrag/lib/python3.10/site-packages (from pandas->haystack-ai) (2024.1)\n",
      "Requirement already satisfied: tzdata>=2022.7 in /Users/ashrafmahmoud/miniconda3/envs/swiftrag/lib/python3.10/site-packages (from pandas->haystack-ai) (2024.1)\n",
      "Requirement already satisfied: six>=1.5 in /Users/ashrafmahmoud/miniconda3/envs/swiftrag/lib/python3.10/site-packages (from python-dateutil->haystack-ai) (1.16.0)\n",
      "Requirement already satisfied: monotonic>=1.5 in /Users/ashrafmahmoud/miniconda3/envs/swiftrag/lib/python3.10/site-packages (from posthog->haystack-ai) (1.6)\n",
      "Requirement already satisfied: backoff>=1.10.0 in /Users/ashrafmahmoud/miniconda3/envs/swiftrag/lib/python3.10/site-packages (from posthog->haystack-ai) (2.2.1)\n",
      "Requirement already satisfied: charset-normalizer<4,>=2 in /Users/ashrafmahmoud/miniconda3/envs/swiftrag/lib/python3.10/site-packages (from requests->haystack-ai) (3.3.2)\n",
      "Requirement already satisfied: idna<4,>=2.5 in /Users/ashrafmahmoud/miniconda3/envs/swiftrag/lib/python3.10/site-packages (from requests->haystack-ai) (3.7)\n",
      "Requirement already satisfied: urllib3<3,>=1.21.1 in /Users/ashrafmahmoud/miniconda3/envs/swiftrag/lib/python3.10/site-packages (from requests->haystack-ai) (2.2.2)\n",
      "Requirement already satisfied: certifi>=2017.4.17 in /Users/ashrafmahmoud/miniconda3/envs/swiftrag/lib/python3.10/site-packages (from requests->haystack-ai) (2024.7.4)\n",
      "Requirement already satisfied: exceptiongroup>=1.0.2 in /Users/ashrafmahmoud/miniconda3/envs/swiftrag/lib/python3.10/site-packages (from anyio<5,>=3.5.0->openai>=1.1.0->haystack-ai) (1.2.0)\n",
      "Requirement already satisfied: httpcore==1.* in /Users/ashrafmahmoud/miniconda3/envs/swiftrag/lib/python3.10/site-packages (from httpx<1,>=0.23.0->openai>=1.1.0->haystack-ai) (1.0.5)\n",
      "Requirement already satisfied: h11<0.15,>=0.13 in /Users/ashrafmahmoud/miniconda3/envs/swiftrag/lib/python3.10/site-packages (from httpcore==1.*->httpx<1,>=0.23.0->openai>=1.1.0->haystack-ai) (0.14.0)\n",
      "Downloading haystack_ai-2.3.0-py3-none-any.whl (349 kB)\n",
      "\u001b[2K   \u001b[90m━━━━━━━━━━━━━━━━━━━━━━━━━━━━━━━━━━━━━━━━\u001b[0m \u001b[32m349.9/349.9 kB\u001b[0m \u001b[31m16.7 kB/s\u001b[0m eta \u001b[36m0:00:00\u001b[0m00:01\u001b[0m00:01\u001b[0m\n",
      "\u001b[?25hDownloading haystack_experimental-0.1.0-py3-none-any.whl (40 kB)\n",
      "\u001b[2K   \u001b[90m━━━━━━━━━━━━━━━━━━━━━━━━━━━━━━━━━━━━━━━━\u001b[0m \u001b[32m40.2/40.2 kB\u001b[0m \u001b[31m57.2 kB/s\u001b[0m eta \u001b[36m0:00:00\u001b[0ma \u001b[36m0:00:01\u001b[0m\n",
      "\u001b[?25hInstalling collected packages: haystack-experimental, haystack-ai\n",
      "Successfully installed haystack-ai-2.3.0 haystack-experimental-0.1.0\n"
     ]
    }
   ],
   "source": [
    "! pip install haystack-ai"
   ]
  }
 ],
 "metadata": {
  "kernelspec": {
   "display_name": "rag",
   "language": "python",
   "name": "python3"
  },
  "language_info": {
   "codemirror_mode": {
    "name": "ipython",
    "version": 3
   },
   "file_extension": ".py",
   "mimetype": "text/x-python",
   "name": "python",
   "nbconvert_exporter": "python",
   "pygments_lexer": "ipython3",
   "version": "3.10.14"
  }
 },
 "nbformat": 4,
 "nbformat_minor": 2
}
